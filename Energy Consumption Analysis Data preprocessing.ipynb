{
 "cells": [
  {
   "cell_type": "code",
   "execution_count": 1,
   "id": "8d71daee-73fd-4d85-b7e3-93f9df5c927e",
   "metadata": {},
   "outputs": [],
   "source": [
    "import pandas as pd\n",
    "import warnings\n",
    "warnings.filterwarnings('ignore')"
   ]
  },
  {
   "cell_type": "code",
   "execution_count": 2,
   "id": "9bdd7b1b-523c-4ffc-b8c9-606be8f68909",
   "metadata": {},
   "outputs": [],
   "source": [
    "df2012 = pd.read_excel(\"D:/Capstone_Projects/Energy consumption Analysis/dataset/2012_report_english.xlsx\", header=2)"
   ]
  },
  {
   "cell_type": "code",
   "execution_count": 3,
   "id": "18d90c5a-9568-468e-953b-594abab155ef",
   "metadata": {},
   "outputs": [],
   "source": [
    "df0 = df2012[['Sector Name', 'Sub Sector ', 'Organization Name', 'Operation Name',\n",
    "       'Operation Type', 'Address', 'City', 'Postal Code', 'Average Hours per week', 'Annual Flow ', 'Electricity',\n",
    "       'Electricity Unit', 'Natural Gas', 'Natural Gas2', 'Fuel Oil 1 & 2',\n",
    "       'Fuel Oil 1 & 2 Unit', 'Fuel Oil 4 &6', 'Fuel Oil 4 &6 Unit', 'Propane',\n",
    "       'Propane Unit', 'Coal Quantity', 'Coal Unit', 'Wood', 'Wood3',\n",
    "       'District Heating', 'District Heating Unit', 'District Cooling',\n",
    "       'District Cooling Unit', 'GHG Emissions KG', 'Energy Intensity GJ_m2', 'Energy Intensity GJ_mega_litre']]\n",
    "df0['Year']=2012"
   ]
  },
  {
   "cell_type": "code",
   "execution_count": 4,
   "id": "ba1c5dcf-025d-4292-8cbf-35e063f54d92",
   "metadata": {},
   "outputs": [],
   "source": [
    "# a=list(df1.columns)\n",
    "# key =[]\n",
    "# for i in list(df0.columns):\n",
    "#     if i not in a:\n",
    "#         key.append(i)\n",
    "# for k, v in zip(key,val):\n",
    "#     print(f\"'{k}': '{v}'\", end=', ')\n",
    "# 'Electricity': 'Electricity_Quantity', 'Electricity Unit': 'Electricity_Unit', 'Natural Gas': 'NaturalGas_Quantity', 'Natural Gas2': 'NaturalGas_Unit', 'Fuel Oil 1 & 2': 'FuelOil12_Quantity', 'Fuel Oil 1 & 2 Unit': 'FuelOil12_Unit', 'Fuel Oil 4 &6': 'FuelOil46_Quantity', 'Fuel Oil 4 &6 Unit': 'FuelOil46_Unit', 'Propane': 'Propane_Quantity', 'Propane Unit': 'Propane_Unit', 'Coal Quantity': 'Coal_Quantity', 'Coal Unit': 'Coal_Unit', 'Wood': 'Wood_Quantity', 'Wood3': 'Wood_Unit', 'District Heating': 'DistrictHeating_Quantity', 'District Heating Unit': 'DistrictHeating_Unit', 'District Cooling': 'DistrictCooling_Quantity', 'District Cooling Unit': 'DistrictCooling_Unit', "
   ]
  },
  {
   "cell_type": "code",
   "execution_count": 5,
   "id": "53230034-25f3-42e6-bac1-36e359df7aca",
   "metadata": {},
   "outputs": [],
   "source": [
    "clm ={'Sector Name': 'Sector' , 'Sub Sector ': 'SubSector' , 'Organization Name': 'Organization', 'Operation Name': 'Operation',\n",
    "      'Average Hours per week': 'Weekly Average Hours', 'Annual Flow ':'Annual Flow', 'Electricity': 'Electricity_Quantity', \n",
    "      'Electricity Unit': 'Electricity_Unit', 'Natural Gas': 'NaturalGas_Quantity', 'Natural Gas2': 'NaturalGas_Unit', \n",
    "      'Fuel Oil 1 & 2': 'FuelOil12_Quantity', 'Fuel Oil 1 & 2 Unit': 'FuelOil12_Unit', 'Fuel Oil 4 &6': 'FuelOil46_Quantity', \n",
    "      'Fuel Oil 4 &6 Unit': 'FuelOil46_Unit', 'Propane': 'Propane_Quantity', 'Propane Unit': 'Propane_Unit', \n",
    "      'Coal Quantity': 'Coal_Quantity', 'Coal Unit': 'Coal_Unit', 'Wood': 'Wood_Quantity', 'Wood3': 'Wood_Unit', \n",
    "      'District Heating': 'DistrictHeating_Quantity', 'District Heating Unit': 'DistrictHeating_Unit', \n",
    "      'District Cooling': 'DistrictCooling_Quantity', 'District Cooling Unit': 'DistrictCooling_Unit'}\n",
    "df0.rename(columns=clm, inplace=True)"
   ]
  },
  {
   "cell_type": "code",
   "execution_count": 6,
   "id": "e6a7d4e9-6125-4eca-a7d2-735a15a82447",
   "metadata": {},
   "outputs": [],
   "source": [
    "df2013 = pd.read_excel(\"D:/Capstone_Projects/Energy consumption Analysis/dataset/2013_report_english.xlsx\", header=2)"
   ]
  },
  {
   "cell_type": "code",
   "execution_count": 7,
   "id": "dc5c21d9-4fa4-4f79-8152-dc200925154a",
   "metadata": {},
   "outputs": [],
   "source": [
    "df1 = df2013[['Sector', 'Sub Sector', 'Organization', 'Operation', 'Operation Type',\n",
    "       'Address', 'City', 'Postal Code', 'Weekly Average Hours', 'Annual Flow (M', 'Electricity_Quantity',\n",
    "       'Electricity_Unit', 'NaturalGas_Quantity', 'NaturalGas_Unit',\n",
    "       'FuelOil12_Quantity', 'FuelOil12_Unit', 'FuelOil46_Quantity',\n",
    "       'FuelOil46_Unit', 'Propane_Quantity', 'Propane_Unit', 'Coal_Quantity',\n",
    "       'Coal_Unit', 'Wood_Quantity', 'Wood_Unit', 'DistrictHeating_Quantity',\n",
    "       'DistrictHeating_Unit', 'DistrictCooling_Quantity', 'DistrictCooling_Unit', 'GHG Emissions KG', 'Energy Intensity GJ_m2', 'Energy Intensity GJ_mega_litre']]"
   ]
  },
  {
   "cell_type": "code",
   "execution_count": 8,
   "id": "bfac8948-f140-4810-9cdb-d0939249c0cf",
   "metadata": {},
   "outputs": [],
   "source": [
    "df1.rename(columns={'Sub Sector': 'SubSector', 'Annual Flow (M': 'Annual Flow'}, inplace = True)"
   ]
  },
  {
   "cell_type": "code",
   "execution_count": 9,
   "id": "c478ba9e-17f6-4855-ad04-7e7c99671093",
   "metadata": {},
   "outputs": [],
   "source": [
    "df1['Year']=2013"
   ]
  },
  {
   "cell_type": "code",
   "execution_count": 10,
   "id": "57d328f1-4f98-4fe8-98f5-c9d3ab46df93",
   "metadata": {},
   "outputs": [],
   "source": [
    "df2014 = pd.read_excel(\"D:/Capstone_Projects/Energy consumption Analysis/dataset/2014_report_english.xlsx\", header=2)"
   ]
  },
  {
   "cell_type": "code",
   "execution_count": 11,
   "id": "cdde1cfb-7f10-4de2-9c5b-e394fc2aa018",
   "metadata": {},
   "outputs": [],
   "source": [
    "df2 = df2014[['Sector', 'Sub Sector', 'Organization', 'Operation', 'Operation Type',\n",
    "       'Address', 'City', 'Postal Code', 'Weekly Average Hours', 'Annual Flow (M', 'Electricity_Quantity',\n",
    "       'Electricity_Unit', 'NaturalGas_Quantity', 'NaturalGas_Unit',\n",
    "       'FuelOil12_Quantity', 'FuelOil12_Unit', 'FuelOil46_Quantity',\n",
    "       'FuelOil46_Unit', 'Propane_Quantity', 'Propane_Unit', 'Coal_Quantity',\n",
    "       'Coal_Unit', 'Wood_Quantity', 'Wood_Unit', 'DistrictHeating_Quantity',\n",
    "       'DistrictHeating_Unit', 'DistrictCooling_Quantity', 'DistrictCooling_Unit', 'GHG Emissions KG', 'Energy Intensity GJ_m2', 'Energy Intensity GJ_mega_litre']]"
   ]
  },
  {
   "cell_type": "code",
   "execution_count": 12,
   "id": "2d30fcb7-f8c1-4ca9-8451-aa67e6393462",
   "metadata": {},
   "outputs": [],
   "source": [
    "df2.rename(columns={'Sub Sector':'SubSector', 'Annual Flow (M': 'Annual Flow'}, inplace=True)\n",
    "df2['Year']=2014"
   ]
  },
  {
   "cell_type": "code",
   "execution_count": 13,
   "id": "55398f16-64e5-4f5f-aaf8-e72fb747a0fc",
   "metadata": {},
   "outputs": [],
   "source": [
    "df2015 = pd.read_excel(\"D:/Capstone_Projects/Energy consumption Analysis/dataset/2015_report_english.xlsx\", header=2)"
   ]
  },
  {
   "cell_type": "code",
   "execution_count": 14,
   "id": "79358096-5346-4c25-a014-3e29725eac3a",
   "metadata": {},
   "outputs": [],
   "source": [
    "df3=df2015[['Sector', 'SubSector', 'Organization', 'Operation', 'Operation Type',\n",
    "       'Address', 'City', 'Postal Code', 'Weekly Average Hours', 'Annual Flow (M', 'Electricity_Quantity',\n",
    "       'Electricity_Unit', 'NaturalGas_Quantity', 'NaturalGas_Unit',\n",
    "       'FuelOil12_Quantity', 'FuelOil12_Unit', 'FuelOil46_Quantity',\n",
    "       'FuelOil46_Unit', 'Propane_Quantity', 'Propane_Unit', 'Coal_Quantity',\n",
    "       'Coal_Unit', 'Wood_Quantity', 'Wood_Unit', 'DistrictHeating_Quantity',\n",
    "       'DistrictHeating_Unit', 'DistrictCooling_Quantity', 'DistrictCooling_Unit', 'GHG Emissions KG', 'Energy Intensity GJ_m2', 'Energy Intensity GJ_mega_litre']]"
   ]
  },
  {
   "cell_type": "code",
   "execution_count": 15,
   "id": "6a247bf6-f531-499d-a6a2-3a5e6ff9ade0",
   "metadata": {},
   "outputs": [],
   "source": [
    "df3.rename(columns={'Annual Flow (M': 'Annual Flow'}, inplace = True)\n",
    "df3['Year']=2015"
   ]
  },
  {
   "cell_type": "code",
   "execution_count": 16,
   "id": "4094c649-4158-45df-92f0-b8cf3dbe8e7d",
   "metadata": {},
   "outputs": [],
   "source": [
    "df2016 = pd.read_excel(\"D:/Capstone_Projects/Energy consumption Analysis/dataset/2016_report_english.xlsx\")"
   ]
  },
  {
   "cell_type": "code",
   "execution_count": 17,
   "id": "91ea84ed-5750-4882-b605-c43ad4c1cb51",
   "metadata": {},
   "outputs": [],
   "source": [
    "df4 = df2016[['Sector', 'Sub Sector', 'Organization', 'Operation', 'Operation Type',\n",
    "       'Address', 'City', 'Postal Code', 'Weekly Average Hours', 'Annual Flow (M', 'Electricity_Quantity',\n",
    "       'Electricity_Unit', 'NaturalGas_Quantity', 'NaturalGas_Unit',\n",
    "       'FuelOil12_Quantity', 'FuelOil12_Unit', 'FuelOil46_Quantity',\n",
    "       'FuelOil46_Unit', 'Propane_Quantity', 'Propane_Unit', 'Coal_Quantity',\n",
    "       'Coal_Unit', 'Wood_Quantity', 'Wood_Unit', 'DistrictHeating_Quantity',\n",
    "       'DistrictHeating_Unit', 'DistrictCooling_Quantity', 'DistrictCooling_Unit', 'GHG Emissions KG', 'Energy Intensity GJ_m2', 'Energy Intensity GJ_mega_litre']]"
   ]
  },
  {
   "cell_type": "code",
   "execution_count": 18,
   "id": "e2e6052f-c49e-4809-ab7b-076d7f1eb50d",
   "metadata": {},
   "outputs": [],
   "source": [
    "df4.rename(columns={'Sub Sector':'SubSector', 'Annual Flow (M': 'Annual Flow'}, inplace = True)\n",
    "df4['Year']=2016"
   ]
  },
  {
   "cell_type": "code",
   "execution_count": 19,
   "id": "9b72ad92-318f-42c4-bed8-478086fa9da3",
   "metadata": {},
   "outputs": [],
   "source": [
    "df2017 = pd.read_excel(\"D:/Capstone_Projects/Energy consumption Analysis/dataset/2017_energy_consumption.xlsx\")"
   ]
  },
  {
   "cell_type": "code",
   "execution_count": 20,
   "id": "552dca52-7dac-4c64-ba32-346413b28546",
   "metadata": {},
   "outputs": [],
   "source": [
    "df5 = df2017[['Sector', 'SubSector', 'Organization', 'Operation', 'Operation Type',\n",
    "       'Address', 'City', 'Postal Code', 'Weekly Average Hours', 'Annual Flow (M', 'Electricity_Quantity',\n",
    "       'Electricity_Unit', 'NaturalGas_Quantity', 'NaturalGas_Unit',\n",
    "       'FuelOil12_Quantity', 'FuelOil12_Unit', 'FuelOil46_Quantity',\n",
    "       'FuelOil46_Unit', 'Propane_Quantity', 'Propane_Unit', 'Coal_Quantity',\n",
    "       'Coal_Unit', 'Wood_Quantity', 'Wood_Unit', 'DistrictHeating_Quantity',\n",
    "       'DistrictHeating_Unit', 'DistrictCooling_Quantity', 'DistrictCooling_Unit', 'GHG Emissions KG', 'Energy Intensity GJ_m2', 'Energy Intensity GJ_mega_litre']]"
   ]
  },
  {
   "cell_type": "code",
   "execution_count": 21,
   "id": "4c5a9d19-a5fc-439a-95a9-20dbdceb0e11",
   "metadata": {},
   "outputs": [],
   "source": [
    "df5.rename(columns={'Annual Flow (M': 'Annual Flow'}, inplace = True)\n",
    "df5['Year']=2017"
   ]
  },
  {
   "cell_type": "code",
   "execution_count": 22,
   "id": "d7a5eb3f-432e-47d8-8a10-1599099464f3",
   "metadata": {},
   "outputs": [],
   "source": [
    "df2018 = pd.read_excel(\"D:/Capstone_Projects/Energy consumption Analysis/dataset/2018_final_data_set.xlsx\")"
   ]
  },
  {
   "cell_type": "code",
   "execution_count": 23,
   "id": "60fe5594-dfd9-4232-9457-229e0688288f",
   "metadata": {},
   "outputs": [],
   "source": [
    "df6= df2018[['Sector', 'SubSector', 'Organization', 'Operation', 'Operation Type',\n",
    "       'Address', 'City', 'Postal Code', 'Weekly Average Hours', 'Annual Flow (M', 'Electricity_Quantity',\n",
    "       'Electricity_Unit', 'NaturalGas_Quantity', 'NaturalGas_Unit',\n",
    "       'FuelOil12_Quantity', 'FuelOil12_Unit', 'FuelOil46_Quantity',\n",
    "       'FuelOil46_Unit', 'Propane_Quantity', 'Propane_Unit', 'Coal_Quantity',\n",
    "       'Coal_Unit', 'Wood_Quantity', 'Wood_Unit', 'DistrictHeating_Quantity',\n",
    "       'DistrictHeating_Unit', 'DistrictCooling_Quantity', 'DistrictCooling_Unit', 'GHG Emissions KG', 'Energy Intensity GJ_m2', 'Energy Intensity GJ_mega_litre']]"
   ]
  },
  {
   "cell_type": "code",
   "execution_count": 24,
   "id": "07e3dfa8-49b4-4640-a734-e1c0e19d2af7",
   "metadata": {},
   "outputs": [],
   "source": [
    "df6.rename(columns={'Annual Flow (M': 'Annual Flow'}, inplace = True)\n",
    "df6['Year']=2018"
   ]
  },
  {
   "cell_type": "code",
   "execution_count": 25,
   "id": "5ec27dde-9954-4d7f-ab33-c95cb542b80a",
   "metadata": {},
   "outputs": [],
   "source": [
    "df2019 = pd.read_excel(\"D:/Capstone_Projects/Energy consumption Analysis/dataset/2019_final_data_set.xlsx\")"
   ]
  },
  {
   "cell_type": "code",
   "execution_count": 26,
   "id": "69510e24-a109-4334-a8c6-2636773819a1",
   "metadata": {},
   "outputs": [],
   "source": [
    "df7 = df2019[['Sector', 'SubSector', 'Organization', 'Operation', 'Operation Type',\n",
    "       'Address', 'City', 'Postal Code', 'Weekly Average Hours', 'Annual Flow (M', 'Electricity_Quantity',\n",
    "       'Electricity_Unit', 'NaturalGas_Quantity', 'NaturalGas_Unit',\n",
    "       'FuelOil12_Quantity', 'FuelOil12_Unit', 'FuelOil46_Quantity',\n",
    "       'FuelOil46_Unit', 'Propane_Quantity', 'Propane_Unit', 'Coal_Quantity',\n",
    "       'Coal_Unit', 'Wood_Quantity', 'Wood_Unit', 'DistrictHeating_Quantity',\n",
    "       'DistrictHeating_Unit', 'DistrictCooling_Quantity', 'DistrictCooling_Unit', 'GHG Emissions KG', 'Energy Intensity GJ_m2', 'Energy Intensity GJ_mega_litre']]"
   ]
  },
  {
   "cell_type": "code",
   "execution_count": 27,
   "id": "74eff0b7-ea67-48e6-887a-a84c43a8af0e",
   "metadata": {},
   "outputs": [],
   "source": [
    "df7.rename(columns={'Annual Flow (M': 'Annual Flow'}, inplace = True)\n",
    "df7['Year']=2019"
   ]
  },
  {
   "cell_type": "code",
   "execution_count": 28,
   "id": "a57fac8b-179f-424e-b153-708534cbde21",
   "metadata": {},
   "outputs": [],
   "source": [
    "df2020 = pd.read_excel(\"D:/Capstone_Projects/Energy consumption Analysis/dataset/2020_final_data_set.xlsx\")"
   ]
  },
  {
   "cell_type": "code",
   "execution_count": 29,
   "id": "f368c8c7-542c-4ca3-b0d9-405888cebb7e",
   "metadata": {},
   "outputs": [],
   "source": [
    "df8=df2020[['Sector', 'SubSector', 'Organization', 'Operation', 'Operation Type',\n",
    "       'Address', 'City', 'Postal Code', 'Weekly Average Hours', 'Annual Flow (M)', 'Electricity_Quantity',\n",
    "       'Electricity_Unit', 'NaturalGas_Quantity', 'NaturalGas_Unit',\n",
    "       'FuelOil12_Quantity', 'FuelOil12_Unit', 'FuelOil46_Quantity',\n",
    "       'FuelOil46_Unit', 'Propane_Quantity', 'Propane_Unit', 'Coal_Quantity',\n",
    "       'Coal_Unit', 'Wood_Quantity', 'Wood_Unit', 'DistrictHeating_Quantity',\n",
    "       'DistrictHeating_Unit', 'DistrictCooling_Quantity', 'DistrictCooling_Unit', 'GHG Emissions KG', 'Energy Intensity GJ_m2', 'Energy Intensity GJ_mega_litre']]"
   ]
  },
  {
   "cell_type": "code",
   "execution_count": 30,
   "id": "759b68d3-9410-4d98-ba7c-7e0537c75b47",
   "metadata": {},
   "outputs": [],
   "source": [
    "df8.rename(columns={'Annual Flow (M)': 'Annual Flow'}, inplace = True)\n",
    "df8['Year']=2020"
   ]
  },
  {
   "cell_type": "markdown",
   "id": "7dce767b-b7c1-41c7-97d0-57e98cd1ed38",
   "metadata": {
    "jp-MarkdownHeadingCollapsed": true
   },
   "source": [
    "# **Use 2021 Data Separately**"
   ]
  },
  {
   "cell_type": "code",
   "execution_count": 31,
   "id": "4c8b12d2-bd95-4ba9-b4c7-863f30527d73",
   "metadata": {},
   "outputs": [],
   "source": [
    "df2021 = pd.read_excel(\"D:/Capstone_Projects/Energy consumption Analysis/dataset/2021_final_bps_dataset.xlsx\", na_values='Not Available')"
   ]
  },
  {
   "cell_type": "code",
   "execution_count": 32,
   "id": "cac0ba87-dd32-4813-96c4-fdb618040661",
   "metadata": {},
   "outputs": [],
   "source": [
    "df9=df2021[['Sector', 'Subsector', 'Organization', 'Address', 'City', 'Postal Code', 'Electricity Use - Grid Purchase (kWh)', 'Natural Gas Use (therms)',\n",
    "       'Natural Gas Use (GJ)', 'Fuel Oil #1 Use (GJ)', 'Fuel Oil #2 Use (GJ)',\n",
    "       'Fuel Oil #4 Use (GJ)', 'Fuel Oil #5 & 6 Use (GJ)',\n",
    "       'Diesel #2 Use (GJ)', 'Kerosene Use (GJ)', 'Propane Use (GJ)', 'Wood Use (GJ)',\n",
    "       'Total (Location-Based) GHG Emissions Intensity (kgCO2e/m²)',]]"
   ]
  },
  {
   "cell_type": "code",
   "execution_count": 33,
   "id": "c7f2dc3e-356b-4b4a-bbc5-5d74a4108aaf",
   "metadata": {},
   "outputs": [
    {
     "data": {
      "text/plain": [
       "(15232, 18)"
      ]
     },
     "execution_count": 33,
     "metadata": {},
     "output_type": "execute_result"
    }
   ],
   "source": [
    "df9.shape"
   ]
  },
  {
   "cell_type": "code",
   "execution_count": 34,
   "id": "ad8471a3-c3ac-4fee-938a-874cb91a233b",
   "metadata": {},
   "outputs": [
    {
     "data": {
      "text/plain": [
       "Index(['Sector', 'Subsector', 'Organization', 'Property Name',\n",
       "       'Primary Property Type - Self Selected',\n",
       "       'Portfolio Manager Property ID', 'Portfolio Manager Parent Property ID',\n",
       "       'Parent Property Name', 'Year Ending', 'Address', 'City', 'Postal Code',\n",
       "       'Property GFA - Self-Reported (m²)', 'Number of Buildings',\n",
       "       'Custom Property ID 1 - Name', 'Custom Property ID 1 - Value',\n",
       "       'Custom Property ID 2 - Name', 'Custom Property ID 2 - Value',\n",
       "       'Custom Property ID 3 - Name', 'Custom Property ID 3 - Value',\n",
       "       'Electricity Use - Grid Purchase (kWh)',\n",
       "       'Electricity Use - Grid Purchase (GJ)', 'Natural Gas Use (therms)',\n",
       "       'Natural Gas Use (GJ)', 'Fuel Oil #1 Use (GJ)', 'Fuel Oil #2 Use (GJ)',\n",
       "       'Fuel Oil #4 Use (GJ)', 'Fuel Oil #5 & 6 Use (GJ)',\n",
       "       'Diesel #2 Use (GJ)', 'Kerosene Use (GJ)', 'Propane Use (GJ)',\n",
       "       'District Steam Use (GJ)', 'District Hot Water Use (GJ)',\n",
       "       'District Chilled Water Use (GJ)', 'Wood Use (GJ)',\n",
       "       'Site Energy Use (GJ)', 'Source Energy Use (GJ)', 'Site EUI (GJ/m²)',\n",
       "       'Site EUI (ekWh/sqft)', 'Source EUI (GJ/m²)', 'Source EUI (ekWh/sqft)',\n",
       "       'Weather Normalized Site Energy Use (GJ)',\n",
       "       'Weather Normalized Source Energy Use (GJ)',\n",
       "       'Weather Normalized Site EUI (GJ/m²)',\n",
       "       'Weather Normalized Site EUI (ekWh/sqft)',\n",
       "       'Weather Normalized Source EUI (GJ/m²)',\n",
       "       'Weather Normalized Source EUI (ekWh/sqft)',\n",
       "       'Total (Location-Based) GHG Emissions (Metric Tons CO2e)',\n",
       "       'Total (Location-Based) GHG Emissions Intensity (kgCO2e/m²)',\n",
       "       'Drinking Water Treatment & Distribution - Average Flow (m³PD)',\n",
       "       'Wastewater Treatment Plant - Average Influent Flow (m³PD)',\n",
       "       'Address 2', 'List of All Property Use Types (GFA) (m²)',\n",
       "       'Largest Property Use Type', 'Report Submission Date',\n",
       "       'Calculated with new source factors (Yes/No)',\n",
       "       'Data Quality Checker Run?', 'Data Quality Checker - Date Run'],\n",
       "      dtype='object')"
      ]
     },
     "execution_count": 34,
     "metadata": {},
     "output_type": "execute_result"
    }
   ],
   "source": [
    "df2021.columns"
   ]
  },
  {
   "cell_type": "markdown",
   "id": "1a500e6a-59db-43b3-a247-6065736cfdae",
   "metadata": {},
   "source": [
    "# **Further Data preparation**"
   ]
  },
  {
   "cell_type": "code",
   "execution_count": 35,
   "id": "69c59e4c-cb31-4ceb-97a6-5d38dfcf9446",
   "metadata": {},
   "outputs": [],
   "source": [
    "dfs = [df0, df1, df2, df3, df4, df5, df6, df7, df8]"
   ]
  },
  {
   "cell_type": "code",
   "execution_count": 36,
   "id": "fb9cbc5f-4e8e-42f9-99fb-6fc89ee9d27f",
   "metadata": {},
   "outputs": [],
   "source": [
    "df = pd.concat(dfs, ignore_index=True)"
   ]
  },
  {
   "cell_type": "code",
   "execution_count": 37,
   "id": "4812d0f8-f5e2-4811-ab9f-6e40718fa351",
   "metadata": {},
   "outputs": [],
   "source": [
    "# (df.isnull().sum()/len(df))*100"
   ]
  },
  {
   "cell_type": "code",
   "execution_count": 38,
   "id": "6fef57ad-f19f-4b6d-919c-fb95765b09c6",
   "metadata": {},
   "outputs": [
    {
     "data": {
      "text/plain": [
       "Index(['Sector', 'SubSector', 'Organization', 'Operation', 'Operation Type',\n",
       "       'Address', 'City', 'Postal Code', 'Weekly Average Hours', 'Annual Flow',\n",
       "       'Electricity_Quantity', 'Electricity_Unit', 'NaturalGas_Quantity',\n",
       "       'NaturalGas_Unit', 'FuelOil12_Quantity', 'FuelOil12_Unit',\n",
       "       'FuelOil46_Quantity', 'FuelOil46_Unit', 'Propane_Quantity',\n",
       "       'Propane_Unit', 'Coal_Quantity', 'Coal_Unit', 'Wood_Quantity',\n",
       "       'Wood_Unit', 'DistrictHeating_Quantity', 'DistrictHeating_Unit',\n",
       "       'DistrictCooling_Quantity', 'DistrictCooling_Unit', 'GHG Emissions KG',\n",
       "       'Energy Intensity GJ_m2', 'Energy Intensity GJ_mega_litre', 'Year'],\n",
       "      dtype='object')"
      ]
     },
     "execution_count": 38,
     "metadata": {},
     "output_type": "execute_result"
    }
   ],
   "source": [
    "df.columns"
   ]
  },
  {
   "cell_type": "markdown",
   "id": "d2d8c463-1cb1-485a-8f5d-9f7e3b635021",
   "metadata": {},
   "source": [
    "### checking unique values in units to check for the unique standards"
   ]
  },
  {
   "cell_type": "code",
   "execution_count": 39,
   "id": "9cd619a4-6174-4a88-a4e9-5cd715580819",
   "metadata": {},
   "outputs": [
    {
     "data": {
      "text/plain": [
       "array(['kWh', nan, 'KWh'], dtype=object)"
      ]
     },
     "execution_count": 39,
     "metadata": {},
     "output_type": "execute_result"
    }
   ],
   "source": [
    "df['Electricity_Unit'].unique()"
   ]
  },
  {
   "cell_type": "code",
   "execution_count": 40,
   "id": "9976d411-b448-4861-987a-4a0f1e34b279",
   "metadata": {},
   "outputs": [
    {
     "data": {
      "text/plain": [
       "NaturalGas_Unit\n",
       "Cubic Meter    108152\n",
       "ekWh              295\n",
       "Giga Joule        204\n",
       "Cubic meter         9\n",
       "mètre cube          1\n",
       "Name: count, dtype: int64"
      ]
     },
     "execution_count": 40,
     "metadata": {},
     "output_type": "execute_result"
    }
   ],
   "source": [
    "df.NaturalGas_Unit.value_counts()"
   ]
  },
  {
   "cell_type": "code",
   "execution_count": 41,
   "id": "92a8a3f9-37c5-485b-8b58-f2a3fa9f2ac8",
   "metadata": {},
   "outputs": [
    {
     "data": {
      "text/plain": [
       "array(['Litre', nan], dtype=object)"
      ]
     },
     "execution_count": 41,
     "metadata": {},
     "output_type": "execute_result"
    }
   ],
   "source": [
    "df.FuelOil12_Unit.unique()"
   ]
  },
  {
   "cell_type": "code",
   "execution_count": 42,
   "id": "ecf5e543-ea09-4db3-b9f6-8fce14a08ff6",
   "metadata": {},
   "outputs": [
    {
     "data": {
      "text/plain": [
       "array(['Litre', nan], dtype=object)"
      ]
     },
     "execution_count": 42,
     "metadata": {},
     "output_type": "execute_result"
    }
   ],
   "source": [
    "df.FuelOil46_Unit.unique()"
   ]
  },
  {
   "cell_type": "code",
   "execution_count": 43,
   "id": "6c1b3f9b-2e12-4e0d-80bc-5c2ac385b5b4",
   "metadata": {},
   "outputs": [
    {
     "data": {
      "text/plain": [
       "Propane_Unit\n",
       "Litre        24860\n",
       "125544.62        1\n",
       "36052.69         1\n",
       "123351.09        1\n",
       "18181.02         1\n",
       "Name: count, dtype: int64"
      ]
     },
     "execution_count": 43,
     "metadata": {},
     "output_type": "execute_result"
    }
   ],
   "source": [
    "df.Propane_Unit.value_counts()"
   ]
  },
  {
   "cell_type": "code",
   "execution_count": 44,
   "id": "f5e5ed5b-48ad-44e7-b50d-0d994e2fb4d9",
   "metadata": {},
   "outputs": [
    {
     "data": {
      "text/plain": [
       "Wood_Unit\n",
       "Metric Tonne    18024\n",
       "Name: count, dtype: int64"
      ]
     },
     "execution_count": 44,
     "metadata": {},
     "output_type": "execute_result"
    }
   ],
   "source": [
    "df.Wood_Unit.value_counts()"
   ]
  },
  {
   "cell_type": "code",
   "execution_count": 45,
   "id": "018cd2b9-b151-4a80-9148-e569742e2f54",
   "metadata": {},
   "outputs": [
    {
     "data": {
      "text/plain": [
       "DistrictHeating_Unit\n",
       "Giga Joule      19068\n",
       "Metric Tonne      115\n",
       "KL Hot Water        1\n",
       "Name: count, dtype: int64"
      ]
     },
     "execution_count": 45,
     "metadata": {},
     "output_type": "execute_result"
    }
   ],
   "source": [
    "df.DistrictHeating_Unit.value_counts()"
   ]
  },
  {
   "cell_type": "code",
   "execution_count": 46,
   "id": "d18e7257-2d6d-429a-a3c9-69cb184c0ea6",
   "metadata": {},
   "outputs": [
    {
     "data": {
      "text/plain": [
       "DistrictCooling_Unit\n",
       "Giga Joule          18763\n",
       "KL Chilled Water       61\n",
       "Name: count, dtype: int64"
      ]
     },
     "execution_count": 46,
     "metadata": {},
     "output_type": "execute_result"
    }
   ],
   "source": [
    "df.DistrictCooling_Unit.value_counts()"
   ]
  },
  {
   "cell_type": "code",
   "execution_count": 64,
   "id": "e1a0d74b-9688-4630-ae06-2dc436b0945d",
   "metadata": {},
   "outputs": [
    {
     "data": {
      "text/plain": [
       "array(['Metric Tonne', nan], dtype=object)"
      ]
     },
     "execution_count": 64,
     "metadata": {},
     "output_type": "execute_result"
    }
   ],
   "source": [
    "df.Coal_Unit.unique()"
   ]
  },
  {
   "cell_type": "markdown",
   "id": "ea242041-4f98-4a64-8931-c1d950199074",
   "metadata": {
    "jp-MarkdownHeadingCollapsed": true
   },
   "source": [
    "#### replacing in natural gas units \n",
    "##### 11 eKWh = 1 metric cube\n",
    "##### 1 Giga Joule = 25.5 metric cube"
   ]
  },
  {
   "cell_type": "code",
   "execution_count": 47,
   "id": "a1670aa2-d6cf-4a3b-8714-36370f50f1ef",
   "metadata": {},
   "outputs": [
    {
     "data": {
      "text/plain": [
       "array(['Cubic Meter', 'Giga Joule', 'ekWh', nan, 'mètre cube',\n",
       "       'Cubic meter'], dtype=object)"
      ]
     },
     "execution_count": 47,
     "metadata": {},
     "output_type": "execute_result"
    }
   ],
   "source": [
    "df.NaturalGas_Unit.unique()"
   ]
  },
  {
   "cell_type": "code",
   "execution_count": 48,
   "id": "76323a76-d978-4b48-b250-e7d5a16e8a35",
   "metadata": {},
   "outputs": [],
   "source": [
    "def convert_to_metric_cube(row):\n",
    "    quantity = row['NaturalGas_Quantity']\n",
    "    unit = row['NaturalGas_Unit']\n",
    "\n",
    "    if unit == 'Giga Joule':\n",
    "        return quantity * 25.5\n",
    "    elif unit == 'ekWh':\n",
    "        return quantity / 11\n",
    "    else:\n",
    "        return quantity"
   ]
  },
  {
   "cell_type": "code",
   "execution_count": 49,
   "id": "37449241-1a24-4c79-8c5f-964eb4fb5c42",
   "metadata": {},
   "outputs": [],
   "source": [
    "# test = df[df[\"NaturalGas_Unit\"]== \"ekWh\"][[\"NaturalGas_Quantity\",'NaturalGas_Unit']]\n",
    "# test.apply(convert_to_metric_cube, axis=1)"
   ]
  },
  {
   "cell_type": "code",
   "execution_count": 50,
   "id": "0913708d-da4f-4134-8c1d-a0add58fa42d",
   "metadata": {},
   "outputs": [],
   "source": [
    "df[\"NaturalGas_Quantity\"] = df.apply(convert_to_metric_cube, axis=1)"
   ]
  },
  {
   "cell_type": "markdown",
   "id": "d340415e-d1b5-4da2-9646-d08a8abfccfe",
   "metadata": {},
   "source": [
    "### dropping units columns"
   ]
  },
  {
   "cell_type": "code",
   "execution_count": 51,
   "id": "e8fc9526-9fef-471d-b107-96aabc8f384f",
   "metadata": {},
   "outputs": [],
   "source": [
    "ndf=df.drop(['Electricity_Unit', 'NaturalGas_Unit', 'FuelOil12_Unit', 'FuelOil46_Unit', 'Propane_Unit', 'Coal_Unit',\n",
    "         'Wood_Unit', 'DistrictHeating_Unit', 'DistrictCooling_Unit'], axis=1)"
   ]
  },
  {
   "cell_type": "markdown",
   "id": "c2c5bbc5-6584-4663-a0b3-aba2dec3635b",
   "metadata": {},
   "source": [
    "Check for null"
   ]
  },
  {
   "cell_type": "code",
   "execution_count": 52,
   "id": "305f6540-afa9-4dcc-93f6-40c59e10292e",
   "metadata": {},
   "outputs": [
    {
     "data": {
      "text/plain": [
       "SubSector                         0.003224\n",
       "Address                           0.067700\n",
       "City                              0.000645\n",
       "Postal Code                       0.112833\n",
       "Annual Flow                       6.807998\n",
       "Electricity_Quantity              0.006448\n",
       "NaturalGas_Quantity               0.247587\n",
       "FuelOil12_Quantity                0.408776\n",
       "FuelOil46_Quantity                0.423606\n",
       "Propane_Quantity                  0.393302\n",
       "Coal_Quantity                     0.426185\n",
       "Wood_Quantity                     0.427474\n",
       "DistrictHeating_Quantity          0.428119\n",
       "DistrictCooling_Quantity          0.428764\n",
       "GHG Emissions KG                  0.021277\n",
       "Energy Intensity GJ_m2            3.493298\n",
       "Energy Intensity GJ_mega_litre    0.388144\n",
       "dtype: float64"
      ]
     },
     "execution_count": 52,
     "metadata": {},
     "output_type": "execute_result"
    }
   ],
   "source": [
    "null = ndf.isnull().any()\n",
    "(ndf[ndf.columns[null]].isnull().sum()/len(df))*100"
   ]
  },
  {
   "cell_type": "raw",
   "id": "1691b90e-04cb-4360-bb0b-ab0815434e97",
   "metadata": {},
   "source": [
    "Observation :\n",
    "  Null Values are in very less percentages"
   ]
  },
  {
   "cell_type": "code",
   "execution_count": 53,
   "id": "2e687cc0-bf74-42ce-9c52-6f09407c4408",
   "metadata": {},
   "outputs": [],
   "source": [
    "final = ndf.dropna()"
   ]
  },
  {
   "cell_type": "code",
   "execution_count": 54,
   "id": "8f18aad2-80a7-4ef5-bbdc-e351ece4611e",
   "metadata": {},
   "outputs": [],
   "source": [
    "final.to_csv(\"D:/Capstone_Projects/Energy consumption Analysis/Final Energy Consumption data.csv\")"
   ]
  },
  {
   "cell_type": "code",
   "execution_count": 55,
   "id": "81b5385c-2f6d-435a-b0b0-2452c77608db",
   "metadata": {},
   "outputs": [
    {
     "data": {
      "text/html": [
       "<div>\n",
       "<style scoped>\n",
       "    .dataframe tbody tr th:only-of-type {\n",
       "        vertical-align: middle;\n",
       "    }\n",
       "\n",
       "    .dataframe tbody tr th {\n",
       "        vertical-align: top;\n",
       "    }\n",
       "\n",
       "    .dataframe thead th {\n",
       "        text-align: right;\n",
       "    }\n",
       "</style>\n",
       "<table border=\"1\" class=\"dataframe\">\n",
       "  <thead>\n",
       "    <tr style=\"text-align: right;\">\n",
       "      <th></th>\n",
       "      <th>Sector</th>\n",
       "      <th>SubSector</th>\n",
       "      <th>Organization</th>\n",
       "      <th>Operation</th>\n",
       "      <th>Operation Type</th>\n",
       "      <th>Address</th>\n",
       "      <th>City</th>\n",
       "      <th>Postal Code</th>\n",
       "      <th>Weekly Average Hours</th>\n",
       "      <th>Annual Flow</th>\n",
       "      <th>...</th>\n",
       "      <th>FuelOil46_Quantity</th>\n",
       "      <th>Propane_Quantity</th>\n",
       "      <th>Coal_Quantity</th>\n",
       "      <th>Wood_Quantity</th>\n",
       "      <th>DistrictHeating_Quantity</th>\n",
       "      <th>DistrictCooling_Quantity</th>\n",
       "      <th>GHG Emissions KG</th>\n",
       "      <th>Energy Intensity GJ_m2</th>\n",
       "      <th>Energy Intensity GJ_mega_litre</th>\n",
       "      <th>Year</th>\n",
       "    </tr>\n",
       "  </thead>\n",
       "  <tbody>\n",
       "  </tbody>\n",
       "</table>\n",
       "<p>0 rows × 23 columns</p>\n",
       "</div>"
      ],
      "text/plain": [
       "Empty DataFrame\n",
       "Columns: [Sector, SubSector, Organization, Operation, Operation Type, Address, City, Postal Code, Weekly Average Hours, Annual Flow, Electricity_Quantity, NaturalGas_Quantity, FuelOil12_Quantity, FuelOil46_Quantity, Propane_Quantity, Coal_Quantity, Wood_Quantity, DistrictHeating_Quantity, DistrictCooling_Quantity, GHG Emissions KG, Energy Intensity GJ_m2, Energy Intensity GJ_mega_litre, Year]\n",
       "Index: []\n",
       "\n",
       "[0 rows x 23 columns]"
      ]
     },
     "execution_count": 55,
     "metadata": {},
     "output_type": "execute_result"
    }
   ],
   "source": [
    "# Checking for Duplicates\n",
    "ndf[ndf.duplicated()]"
   ]
  },
  {
   "cell_type": "code",
   "execution_count": 56,
   "id": "924252db-5885-4d6e-9527-b63b43c5a67d",
   "metadata": {},
   "outputs": [
    {
     "data": {
      "text/plain": [
       "Sector                            0\n",
       "SubSector                         0\n",
       "Organization                      0\n",
       "Operation                         0\n",
       "Operation Type                    0\n",
       "Address                           0\n",
       "City                              0\n",
       "Postal Code                       0\n",
       "Weekly Average Hours              0\n",
       "Annual Flow                       0\n",
       "Electricity_Quantity              0\n",
       "NaturalGas_Quantity               0\n",
       "FuelOil12_Quantity                0\n",
       "FuelOil46_Quantity                0\n",
       "Propane_Quantity                  0\n",
       "Coal_Quantity                     0\n",
       "Wood_Quantity                     0\n",
       "DistrictHeating_Quantity          0\n",
       "DistrictCooling_Quantity          0\n",
       "GHG Emissions KG                  0\n",
       "Energy Intensity GJ_m2            0\n",
       "Energy Intensity GJ_mega_litre    0\n",
       "Year                              0\n",
       "dtype: int64"
      ]
     },
     "execution_count": 56,
     "metadata": {},
     "output_type": "execute_result"
    }
   ],
   "source": [
    "final.isnull().sum()"
   ]
  },
  {
   "cell_type": "code",
   "execution_count": 57,
   "id": "6030cf28-caf5-445b-89b4-a1bec41eb620",
   "metadata": {},
   "outputs": [
    {
     "data": {
      "text/html": [
       "<div>\n",
       "<style scoped>\n",
       "    .dataframe tbody tr th:only-of-type {\n",
       "        vertical-align: middle;\n",
       "    }\n",
       "\n",
       "    .dataframe tbody tr th {\n",
       "        vertical-align: top;\n",
       "    }\n",
       "\n",
       "    .dataframe thead th {\n",
       "        text-align: right;\n",
       "    }\n",
       "</style>\n",
       "<table border=\"1\" class=\"dataframe\">\n",
       "  <thead>\n",
       "    <tr style=\"text-align: right;\">\n",
       "      <th></th>\n",
       "      <th>Sector</th>\n",
       "      <th>SubSector</th>\n",
       "      <th>Organization</th>\n",
       "      <th>Operation</th>\n",
       "      <th>Operation Type</th>\n",
       "      <th>Address</th>\n",
       "      <th>City</th>\n",
       "      <th>Postal Code</th>\n",
       "      <th>Weekly Average Hours</th>\n",
       "      <th>Annual Flow</th>\n",
       "      <th>...</th>\n",
       "      <th>FuelOil46_Quantity</th>\n",
       "      <th>Propane_Quantity</th>\n",
       "      <th>Coal_Quantity</th>\n",
       "      <th>Wood_Quantity</th>\n",
       "      <th>DistrictHeating_Quantity</th>\n",
       "      <th>DistrictCooling_Quantity</th>\n",
       "      <th>GHG Emissions KG</th>\n",
       "      <th>Energy Intensity GJ_m2</th>\n",
       "      <th>Energy Intensity GJ_mega_litre</th>\n",
       "      <th>Year</th>\n",
       "    </tr>\n",
       "  </thead>\n",
       "  <tbody>\n",
       "    <tr>\n",
       "      <th>0</th>\n",
       "      <td>Public Hospital</td>\n",
       "      <td>Acute/Chronic</td>\n",
       "      <td>Alexandra Hospital</td>\n",
       "      <td>Alexandra Hospital</td>\n",
       "      <td>Facilities used for hospital purposes</td>\n",
       "      <td>29 Noxon Street</td>\n",
       "      <td>Ingersoll</td>\n",
       "      <td>N5C3V6</td>\n",
       "      <td>168.0</td>\n",
       "      <td>0.0</td>\n",
       "      <td>...</td>\n",
       "      <td>0.0</td>\n",
       "      <td>0.0</td>\n",
       "      <td>0.0</td>\n",
       "      <td>0.0</td>\n",
       "      <td>0.0</td>\n",
       "      <td>0.0</td>\n",
       "      <td>5.275600e+05</td>\n",
       "      <td>2.696894</td>\n",
       "      <td>0.0</td>\n",
       "      <td>2012</td>\n",
       "    </tr>\n",
       "    <tr>\n",
       "      <th>1</th>\n",
       "      <td>Public Hospital</td>\n",
       "      <td>Acute/Chronic</td>\n",
       "      <td>Alexandra Hospital</td>\n",
       "      <td>Alexandra Hospital</td>\n",
       "      <td>Administrative offices and related facilities</td>\n",
       "      <td>29 Noxon Street</td>\n",
       "      <td>Ingersoll</td>\n",
       "      <td>N5C3V6</td>\n",
       "      <td>40.0</td>\n",
       "      <td>0.0</td>\n",
       "      <td>...</td>\n",
       "      <td>0.0</td>\n",
       "      <td>0.0</td>\n",
       "      <td>0.0</td>\n",
       "      <td>0.0</td>\n",
       "      <td>0.0</td>\n",
       "      <td>0.0</td>\n",
       "      <td>4.316400e+05</td>\n",
       "      <td>2.696894</td>\n",
       "      <td>0.0</td>\n",
       "      <td>2012</td>\n",
       "    </tr>\n",
       "    <tr>\n",
       "      <th>2</th>\n",
       "      <td>Public Hospital</td>\n",
       "      <td>Acute/Chronic</td>\n",
       "      <td>Alexandria Glengarry Memorial Hospital</td>\n",
       "      <td>Glengarry Memorial Hospital</td>\n",
       "      <td>Facilities used for hospital purposes</td>\n",
       "      <td>20260 County Road 43</td>\n",
       "      <td>Alexandria</td>\n",
       "      <td>K0C1A0</td>\n",
       "      <td>168.0</td>\n",
       "      <td>0.0</td>\n",
       "      <td>...</td>\n",
       "      <td>0.0</td>\n",
       "      <td>0.0</td>\n",
       "      <td>0.0</td>\n",
       "      <td>0.0</td>\n",
       "      <td>0.0</td>\n",
       "      <td>0.0</td>\n",
       "      <td>5.865300e+05</td>\n",
       "      <td>3.087966</td>\n",
       "      <td>0.0</td>\n",
       "      <td>2012</td>\n",
       "    </tr>\n",
       "    <tr>\n",
       "      <th>3</th>\n",
       "      <td>Public Hospital</td>\n",
       "      <td>Acute/Chronic</td>\n",
       "      <td>Alexandria Glengarry Memorial Hospital</td>\n",
       "      <td>Glengarry Memorial Hospital</td>\n",
       "      <td>Administrative offices and related facilities</td>\n",
       "      <td>20260 County Road 43</td>\n",
       "      <td>Alexandria</td>\n",
       "      <td>K0C1A0</td>\n",
       "      <td>65.0</td>\n",
       "      <td>0.0</td>\n",
       "      <td>...</td>\n",
       "      <td>0.0</td>\n",
       "      <td>0.0</td>\n",
       "      <td>0.0</td>\n",
       "      <td>0.0</td>\n",
       "      <td>0.0</td>\n",
       "      <td>0.0</td>\n",
       "      <td>4.544946e+04</td>\n",
       "      <td>3.088070</td>\n",
       "      <td>0.0</td>\n",
       "      <td>2012</td>\n",
       "    </tr>\n",
       "    <tr>\n",
       "      <th>4</th>\n",
       "      <td>School Board</td>\n",
       "      <td>School Board</td>\n",
       "      <td>Algoma District School Board</td>\n",
       "      <td>Adult Ed - Blind River (WC Eaket)</td>\n",
       "      <td>Schools</td>\n",
       "      <td>147 Woodward Ave</td>\n",
       "      <td>Blind River</td>\n",
       "      <td>P0R1B0</td>\n",
       "      <td>40.0</td>\n",
       "      <td>0.0</td>\n",
       "      <td>...</td>\n",
       "      <td>0.0</td>\n",
       "      <td>0.0</td>\n",
       "      <td>0.0</td>\n",
       "      <td>0.0</td>\n",
       "      <td>0.0</td>\n",
       "      <td>0.0</td>\n",
       "      <td>5.259300e+04</td>\n",
       "      <td>10.321518</td>\n",
       "      <td>0.0</td>\n",
       "      <td>2012</td>\n",
       "    </tr>\n",
       "    <tr>\n",
       "      <th>...</th>\n",
       "      <td>...</td>\n",
       "      <td>...</td>\n",
       "      <td>...</td>\n",
       "      <td>...</td>\n",
       "      <td>...</td>\n",
       "      <td>...</td>\n",
       "      <td>...</td>\n",
       "      <td>...</td>\n",
       "      <td>...</td>\n",
       "      <td>...</td>\n",
       "      <td>...</td>\n",
       "      <td>...</td>\n",
       "      <td>...</td>\n",
       "      <td>...</td>\n",
       "      <td>...</td>\n",
       "      <td>...</td>\n",
       "      <td>...</td>\n",
       "      <td>...</td>\n",
       "      <td>...</td>\n",
       "      <td>...</td>\n",
       "      <td>...</td>\n",
       "    </tr>\n",
       "    <tr>\n",
       "      <th>155092</th>\n",
       "      <td>Post-Secondary Educational Institution</td>\n",
       "      <td>University</td>\n",
       "      <td>York University</td>\n",
       "      <td>Technology Enhanced Learning (483)</td>\n",
       "      <td>Classrooms and related facilities</td>\n",
       "      <td>4700 Keele Street</td>\n",
       "      <td>Toronto</td>\n",
       "      <td>M3J 1P3</td>\n",
       "      <td>168.0</td>\n",
       "      <td>0.0</td>\n",
       "      <td>...</td>\n",
       "      <td>0.0</td>\n",
       "      <td>0.0</td>\n",
       "      <td>0</td>\n",
       "      <td>0.0</td>\n",
       "      <td>19364.0</td>\n",
       "      <td>5313.0</td>\n",
       "      <td>1.231972e+06</td>\n",
       "      <td>0.900029</td>\n",
       "      <td>0.0</td>\n",
       "      <td>2020</td>\n",
       "    </tr>\n",
       "    <tr>\n",
       "      <th>155093</th>\n",
       "      <td>Post-Secondary Educational Institution</td>\n",
       "      <td>University</td>\n",
       "      <td>York University</td>\n",
       "      <td>Atkinson Residence (365)</td>\n",
       "      <td>Student residences</td>\n",
       "      <td>4700 Keele Street</td>\n",
       "      <td>Toronto</td>\n",
       "      <td>M3J 1P3</td>\n",
       "      <td>168.0</td>\n",
       "      <td>0.0</td>\n",
       "      <td>...</td>\n",
       "      <td>0.0</td>\n",
       "      <td>0.0</td>\n",
       "      <td>0</td>\n",
       "      <td>0.0</td>\n",
       "      <td>11303.0</td>\n",
       "      <td>2624.0</td>\n",
       "      <td>6.970769e+05</td>\n",
       "      <td>1.283615</td>\n",
       "      <td>0.0</td>\n",
       "      <td>2020</td>\n",
       "    </tr>\n",
       "    <tr>\n",
       "      <th>155094</th>\n",
       "      <td>Post-Secondary Educational Institution</td>\n",
       "      <td>University</td>\n",
       "      <td>York University</td>\n",
       "      <td>360 Assiniboine Road (401)</td>\n",
       "      <td>Student residences</td>\n",
       "      <td>4700 Keele Street</td>\n",
       "      <td>Toronto</td>\n",
       "      <td>M3J 1P3</td>\n",
       "      <td>168.0</td>\n",
       "      <td>0.0</td>\n",
       "      <td>...</td>\n",
       "      <td>0.0</td>\n",
       "      <td>0.0</td>\n",
       "      <td>0</td>\n",
       "      <td>0.0</td>\n",
       "      <td>9796.0</td>\n",
       "      <td>2274.0</td>\n",
       "      <td>5.999517e+05</td>\n",
       "      <td>1.334078</td>\n",
       "      <td>0.0</td>\n",
       "      <td>2020</td>\n",
       "    </tr>\n",
       "    <tr>\n",
       "      <th>155095</th>\n",
       "      <td>Post-Secondary Educational Institution</td>\n",
       "      <td>University</td>\n",
       "      <td>York University</td>\n",
       "      <td>Centre for Film and Theatre (399)</td>\n",
       "      <td>Laboratories</td>\n",
       "      <td>4700 Keele Street</td>\n",
       "      <td>Toronto</td>\n",
       "      <td>M3J 1P3</td>\n",
       "      <td>108.5</td>\n",
       "      <td>0.0</td>\n",
       "      <td>...</td>\n",
       "      <td>0.0</td>\n",
       "      <td>0.0</td>\n",
       "      <td>0</td>\n",
       "      <td>0.0</td>\n",
       "      <td>6185.0</td>\n",
       "      <td>1697.0</td>\n",
       "      <td>3.804318e+05</td>\n",
       "      <td>1.307049</td>\n",
       "      <td>0.0</td>\n",
       "      <td>2020</td>\n",
       "    </tr>\n",
       "    <tr>\n",
       "      <th>155096</th>\n",
       "      <td>Post-Secondary Educational Institution</td>\n",
       "      <td>University</td>\n",
       "      <td>York University</td>\n",
       "      <td>4747-Keele Unit 1</td>\n",
       "      <td>Administrative offices and related facilities</td>\n",
       "      <td>4747 Keele</td>\n",
       "      <td>North York</td>\n",
       "      <td>M3J 1P3</td>\n",
       "      <td>55.0</td>\n",
       "      <td>0.0</td>\n",
       "      <td>...</td>\n",
       "      <td>0.0</td>\n",
       "      <td>0.0</td>\n",
       "      <td>0</td>\n",
       "      <td>0.0</td>\n",
       "      <td>0.0</td>\n",
       "      <td>0.0</td>\n",
       "      <td>7.413124e+04</td>\n",
       "      <td>0.985658</td>\n",
       "      <td>0.0</td>\n",
       "      <td>2020</td>\n",
       "    </tr>\n",
       "  </tbody>\n",
       "</table>\n",
       "<p>138914 rows × 23 columns</p>\n",
       "</div>"
      ],
      "text/plain": [
       "                                        Sector      SubSector  \\\n",
       "0                              Public Hospital  Acute/Chronic   \n",
       "1                              Public Hospital  Acute/Chronic   \n",
       "2                              Public Hospital  Acute/Chronic   \n",
       "3                              Public Hospital  Acute/Chronic   \n",
       "4                                 School Board   School Board   \n",
       "...                                        ...            ...   \n",
       "155092  Post-Secondary Educational Institution     University   \n",
       "155093  Post-Secondary Educational Institution     University   \n",
       "155094  Post-Secondary Educational Institution     University   \n",
       "155095  Post-Secondary Educational Institution     University   \n",
       "155096  Post-Secondary Educational Institution     University   \n",
       "\n",
       "                                  Organization  \\\n",
       "0                           Alexandra Hospital   \n",
       "1                           Alexandra Hospital   \n",
       "2       Alexandria Glengarry Memorial Hospital   \n",
       "3       Alexandria Glengarry Memorial Hospital   \n",
       "4                 Algoma District School Board   \n",
       "...                                        ...   \n",
       "155092                         York University   \n",
       "155093                         York University   \n",
       "155094                         York University   \n",
       "155095                         York University   \n",
       "155096                         York University   \n",
       "\n",
       "                                 Operation  \\\n",
       "0                       Alexandra Hospital   \n",
       "1                       Alexandra Hospital   \n",
       "2              Glengarry Memorial Hospital   \n",
       "3              Glengarry Memorial Hospital   \n",
       "4        Adult Ed - Blind River (WC Eaket)   \n",
       "...                                    ...   \n",
       "155092  Technology Enhanced Learning (483)   \n",
       "155093            Atkinson Residence (365)   \n",
       "155094          360 Assiniboine Road (401)   \n",
       "155095   Centre for Film and Theatre (399)   \n",
       "155096                   4747-Keele Unit 1   \n",
       "\n",
       "                                       Operation Type               Address  \\\n",
       "0               Facilities used for hospital purposes       29 Noxon Street   \n",
       "1       Administrative offices and related facilities       29 Noxon Street   \n",
       "2               Facilities used for hospital purposes  20260 County Road 43   \n",
       "3       Administrative offices and related facilities  20260 County Road 43   \n",
       "4                                             Schools      147 Woodward Ave   \n",
       "...                                               ...                   ...   \n",
       "155092              Classrooms and related facilities     4700 Keele Street   \n",
       "155093                             Student residences     4700 Keele Street   \n",
       "155094                             Student residences     4700 Keele Street   \n",
       "155095                                   Laboratories     4700 Keele Street   \n",
       "155096  Administrative offices and related facilities            4747 Keele   \n",
       "\n",
       "               City Postal Code  Weekly Average Hours  Annual Flow  ...  \\\n",
       "0         Ingersoll      N5C3V6                 168.0          0.0  ...   \n",
       "1         Ingersoll      N5C3V6                  40.0          0.0  ...   \n",
       "2        Alexandria      K0C1A0                 168.0          0.0  ...   \n",
       "3        Alexandria      K0C1A0                  65.0          0.0  ...   \n",
       "4       Blind River      P0R1B0                  40.0          0.0  ...   \n",
       "...             ...         ...                   ...          ...  ...   \n",
       "155092      Toronto     M3J 1P3                 168.0          0.0  ...   \n",
       "155093      Toronto     M3J 1P3                 168.0          0.0  ...   \n",
       "155094      Toronto     M3J 1P3                 168.0          0.0  ...   \n",
       "155095      Toronto     M3J 1P3                 108.5          0.0  ...   \n",
       "155096   North York     M3J 1P3                  55.0          0.0  ...   \n",
       "\n",
       "        FuelOil46_Quantity  Propane_Quantity  Coal_Quantity  Wood_Quantity  \\\n",
       "0                      0.0               0.0            0.0            0.0   \n",
       "1                      0.0               0.0            0.0            0.0   \n",
       "2                      0.0               0.0            0.0            0.0   \n",
       "3                      0.0               0.0            0.0            0.0   \n",
       "4                      0.0               0.0            0.0            0.0   \n",
       "...                    ...               ...            ...            ...   \n",
       "155092                 0.0               0.0              0            0.0   \n",
       "155093                 0.0               0.0              0            0.0   \n",
       "155094                 0.0               0.0              0            0.0   \n",
       "155095                 0.0               0.0              0            0.0   \n",
       "155096                 0.0               0.0              0            0.0   \n",
       "\n",
       "        DistrictHeating_Quantity DistrictCooling_Quantity  GHG Emissions KG  \\\n",
       "0                            0.0                      0.0      5.275600e+05   \n",
       "1                            0.0                      0.0      4.316400e+05   \n",
       "2                            0.0                      0.0      5.865300e+05   \n",
       "3                            0.0                      0.0      4.544946e+04   \n",
       "4                            0.0                      0.0      5.259300e+04   \n",
       "...                          ...                      ...               ...   \n",
       "155092                   19364.0                   5313.0      1.231972e+06   \n",
       "155093                   11303.0                   2624.0      6.970769e+05   \n",
       "155094                    9796.0                   2274.0      5.999517e+05   \n",
       "155095                    6185.0                   1697.0      3.804318e+05   \n",
       "155096                       0.0                      0.0      7.413124e+04   \n",
       "\n",
       "        Energy Intensity GJ_m2  Energy Intensity GJ_mega_litre  Year  \n",
       "0                     2.696894                             0.0  2012  \n",
       "1                     2.696894                             0.0  2012  \n",
       "2                     3.087966                             0.0  2012  \n",
       "3                     3.088070                             0.0  2012  \n",
       "4                    10.321518                             0.0  2012  \n",
       "...                        ...                             ...   ...  \n",
       "155092                0.900029                             0.0  2020  \n",
       "155093                1.283615                             0.0  2020  \n",
       "155094                1.334078                             0.0  2020  \n",
       "155095                1.307049                             0.0  2020  \n",
       "155096                0.985658                             0.0  2020  \n",
       "\n",
       "[138914 rows x 23 columns]"
      ]
     },
     "execution_count": 57,
     "metadata": {},
     "output_type": "execute_result"
    }
   ],
   "source": [
    "final"
   ]
  },
  {
   "cell_type": "code",
   "execution_count": 59,
   "id": "fa60879d-1213-49c8-a79a-292dde4b0ae3",
   "metadata": {},
   "outputs": [],
   "source": [
    "final.to_excel(\"D:/Capstone_Projects/Energy consumption Analysis/Final Energy Consumption data.xlsx\",index_label=False)"
   ]
  },
  {
   "cell_type": "code",
   "execution_count": 63,
   "id": "6f6b8548-2cac-41a8-9aec-6b66dc718edc",
   "metadata": {},
   "outputs": [
    {
     "name": "stdout",
     "output_type": "stream",
     "text": [
      "Sector\n",
      "Municipal                                 75634\n",
      "School Board                              44700\n",
      "Municipality                               7721\n",
      "Post-Secondary Educational Institution     5482\n",
      "Public Hospital                            3226\n",
      "Post-secondary Educational Institution      969\n",
      "Post-Secondary Institution                  756\n",
      "Hospital                                    426\n",
      "Name: count, dtype: int64\n"
     ]
    }
   ],
   "source": [
    "print(final.Sector.value_counts())"
   ]
  }
 ],
 "metadata": {
  "kernelspec": {
   "display_name": "Python 3 (ipykernel)",
   "language": "python",
   "name": "python3"
  },
  "language_info": {
   "codemirror_mode": {
    "name": "ipython",
    "version": 3
   },
   "file_extension": ".py",
   "mimetype": "text/x-python",
   "name": "python",
   "nbconvert_exporter": "python",
   "pygments_lexer": "ipython3",
   "version": "3.11.5"
  }
 },
 "nbformat": 4,
 "nbformat_minor": 5
}
