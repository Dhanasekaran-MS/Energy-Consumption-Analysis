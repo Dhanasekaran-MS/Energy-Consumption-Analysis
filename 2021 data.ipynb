{
 "cells": [
  {
   "cell_type": "code",
   "execution_count": 1,
   "id": "9a6761ff-5534-408e-ae3a-3e925878e304",
   "metadata": {},
   "outputs": [],
   "source": [
    "import pandas as pd"
   ]
  },
  {
   "cell_type": "code",
   "execution_count": 7,
   "id": "ced52f4b-2335-4703-8bcd-979f838f8d85",
   "metadata": {},
   "outputs": [],
   "source": [
    "df = pd.read_excel('D:/Capstone_Projects/Energy consumption Analysis/dataset/2021_final_bps_dataset.xlsx', na_values='Not Available')"
   ]
  },
  {
   "cell_type": "code",
   "execution_count": 9,
   "id": "2a252323-d4df-4f30-8f24-5423e78d6626",
   "metadata": {},
   "outputs": [
    {
     "data": {
      "text/plain": [
       "Sector                                                             0.000000\n",
       "Subsector                                                          0.000000\n",
       "Organization                                                       0.000000\n",
       "Property Name                                                      0.000000\n",
       "Primary Property Type - Self Selected                              0.000000\n",
       "Portfolio Manager Property ID                                      0.000000\n",
       "Portfolio Manager Parent Property ID                               0.000000\n",
       "Parent Property Name                                               0.000000\n",
       "Year Ending                                                        0.000000\n",
       "Address                                                            0.013130\n",
       "City                                                               0.000000\n",
       "Postal Code                                                        0.032826\n",
       "Property GFA - Self-Reported (m²)                                  0.000000\n",
       "Number of Buildings                                                0.000000\n",
       "Custom Property ID 1 - Name                                        4.037553\n",
       "Custom Property ID 1 - Value                                       4.037553\n",
       "Custom Property ID 2 - Name                                        5.488445\n",
       "Custom Property ID 2 - Value                                       5.488445\n",
       "Custom Property ID 3 - Name                                        5.495011\n",
       "Custom Property ID 3 - Value                                       5.495011\n",
       "Electricity Use - Grid Purchase (kWh)                             10.773372\n",
       "Electricity Use - Grid Purchase (GJ)                              10.773372\n",
       "Natural Gas Use (therms)                                          38.215599\n",
       "Natural Gas Use (GJ)                                              38.215599\n",
       "Fuel Oil #1 Use (GJ)                                              99.973739\n",
       "Fuel Oil #2 Use (GJ)                                              98.010767\n",
       "Fuel Oil #4 Use (GJ)                                              99.875263\n",
       "Fuel Oil #5 & 6 Use (GJ)                                          99.993435\n",
       "Diesel #2 Use (GJ)                                                99.980305\n",
       "Kerosene Use (GJ)                                                100.000000\n",
       "Propane Use (GJ)                                                  95.319065\n",
       "District Steam Use (GJ)                                           99.796481\n",
       "District Hot Water Use (GJ)                                       99.750525\n",
       "District Chilled Water Use (GJ)                                   99.763655\n",
       "Wood Use (GJ)                                                     99.980305\n",
       "Site Energy Use (GJ)                                              11.850053\n",
       "Source Energy Use (GJ)                                            11.850053\n",
       "Site EUI (GJ/m²)                                                  16.458771\n",
       "Site EUI (ekWh/sqft)                                              16.458771\n",
       "Source EUI (GJ/m²)                                                16.458771\n",
       "Source EUI (ekWh/sqft)                                            16.458771\n",
       "Weather Normalized Site Energy Use (GJ)                           90.014443\n",
       "Weather Normalized Source Energy Use (GJ)                         90.014443\n",
       "Weather Normalized Site EUI (GJ/m²)                               90.316439\n",
       "Weather Normalized Site EUI (ekWh/sqft)                           90.316439\n",
       "Weather Normalized Source EUI (GJ/m²)                             90.316439\n",
       "Weather Normalized Source EUI (ekWh/sqft)                         90.316439\n",
       "Total (Location-Based) GHG Emissions (Metric Tons CO2e)           11.508666\n",
       "Total (Location-Based) GHG Emissions Intensity (kgCO2e/m²)        16.143645\n",
       "Drinking Water Treatment & Distribution - Average Flow (m³PD)     98.430935\n",
       "Wastewater Treatment Plant - Average Influent Flow (m³PD)         98.430935\n",
       "Address 2                                                         99.665179\n",
       "List of All Property Use Types (GFA) (m²)                          0.000000\n",
       "Largest Property Use Type                                          7.477679\n",
       "Report Submission Date                                             0.000000\n",
       "Calculated with new source factors (Yes/No)                        0.000000\n",
       "Data Quality Checker Run?                                          0.000000\n",
       "Data Quality Checker - Date Run                                   94.557511\n",
       "dtype: float64"
      ]
     },
     "execution_count": 9,
     "metadata": {},
     "output_type": "execute_result"
    }
   ],
   "source": [
    "(df.isnull().sum()/len(df))*100"
   ]
  },
  {
   "cell_type": "code",
   "execution_count": 13,
   "id": "e322c8b8-ad36-4e2f-805c-110b1dbdef43",
   "metadata": {},
   "outputs": [],
   "source": [
    "ndf = df[['Sector', 'Subsector', 'Organization', 'Property Name',\n",
    "    'Primary Property Type - Self Selected', 'Address', 'City', 'Postal Code', \n",
    "    'Electricity Use - Grid Purchase (kWh)', 'Natural Gas Use (GJ)', 'Site Energy Use (GJ)', \n",
    "    'Total (Location-Based) GHG Emissions (Metric Tons CO2e)', 'Report Submission Date']]"
   ]
  },
  {
   "cell_type": "code",
   "execution_count": 16,
   "id": "89f43fb5-7a5e-4dec-af25-4c4341f9db31",
   "metadata": {},
   "outputs": [
    {
     "data": {
      "text/plain": [
       "Sector                                                      0.000000\n",
       "Subsector                                                   0.000000\n",
       "Organization                                                0.000000\n",
       "Property Name                                               0.000000\n",
       "Primary Property Type - Self Selected                       0.000000\n",
       "Address                                                     0.013130\n",
       "City                                                        0.000000\n",
       "Postal Code                                                 0.032826\n",
       "Electricity Use - Grid Purchase (kWh)                      10.773372\n",
       "Natural Gas Use (GJ)                                       38.215599\n",
       "Site Energy Use (GJ)                                       11.850053\n",
       "Total (Location-Based) GHG Emissions (Metric Tons CO2e)    11.508666\n",
       "Report Submission Date                                      0.000000\n",
       "dtype: float64"
      ]
     },
     "execution_count": 16,
     "metadata": {},
     "output_type": "execute_result"
    }
   ],
   "source": [
    "(ndf.isnull().sum()/len(ndf))*100"
   ]
  },
  {
   "cell_type": "code",
   "execution_count": 18,
   "id": "d793a1b4-0740-4999-a0f5-0045d9b1004f",
   "metadata": {},
   "outputs": [
    {
     "data": {
      "text/html": [
       "<div>\n",
       "<style scoped>\n",
       "    .dataframe tbody tr th:only-of-type {\n",
       "        vertical-align: middle;\n",
       "    }\n",
       "\n",
       "    .dataframe tbody tr th {\n",
       "        vertical-align: top;\n",
       "    }\n",
       "\n",
       "    .dataframe thead th {\n",
       "        text-align: right;\n",
       "    }\n",
       "</style>\n",
       "<table border=\"1\" class=\"dataframe\">\n",
       "  <thead>\n",
       "    <tr style=\"text-align: right;\">\n",
       "      <th></th>\n",
       "      <th>Electricity Use - Grid Purchase (kWh)</th>\n",
       "    </tr>\n",
       "    <tr>\n",
       "      <th>Sector</th>\n",
       "      <th></th>\n",
       "    </tr>\n",
       "  </thead>\n",
       "  <tbody>\n",
       "    <tr>\n",
       "      <th>Municipal</th>\n",
       "      <td>4.743627e+05</td>\n",
       "    </tr>\n",
       "    <tr>\n",
       "      <th>Postsecondary</th>\n",
       "      <td>3.480822e+06</td>\n",
       "    </tr>\n",
       "    <tr>\n",
       "      <th>Public Hospital</th>\n",
       "      <td>6.164031e+06</td>\n",
       "    </tr>\n",
       "    <tr>\n",
       "      <th>School Boards</th>\n",
       "      <td>3.802758e+05</td>\n",
       "    </tr>\n",
       "  </tbody>\n",
       "</table>\n",
       "</div>"
      ],
      "text/plain": [
       "                 Electricity Use - Grid Purchase (kWh)\n",
       "Sector                                                \n",
       "Municipal                                 4.743627e+05\n",
       "Postsecondary                             3.480822e+06\n",
       "Public Hospital                           6.164031e+06\n",
       "School Boards                             3.802758e+05"
      ]
     },
     "execution_count": 18,
     "metadata": {},
     "output_type": "execute_result"
    }
   ],
   "source": [
    "ndf.groupby('Sector').agg({'Electricity Use - Grid Purchase (kWh)': 'mean'})"
   ]
  },
  {
   "cell_type": "code",
   "execution_count": 19,
   "id": "e0a39d68-68a7-4394-9505-938dbb538c50",
   "metadata": {},
   "outputs": [
    {
     "data": {
      "text/html": [
       "<div>\n",
       "<style scoped>\n",
       "    .dataframe tbody tr th:only-of-type {\n",
       "        vertical-align: middle;\n",
       "    }\n",
       "\n",
       "    .dataframe tbody tr th {\n",
       "        vertical-align: top;\n",
       "    }\n",
       "\n",
       "    .dataframe thead th {\n",
       "        text-align: right;\n",
       "    }\n",
       "</style>\n",
       "<table border=\"1\" class=\"dataframe\">\n",
       "  <thead>\n",
       "    <tr style=\"text-align: right;\">\n",
       "      <th></th>\n",
       "      <th>Electricity Use - Grid Purchase (kWh)</th>\n",
       "    </tr>\n",
       "    <tr>\n",
       "      <th>Sector</th>\n",
       "      <th></th>\n",
       "    </tr>\n",
       "  </thead>\n",
       "  <tbody>\n",
       "    <tr>\n",
       "      <th>Municipal</th>\n",
       "      <td>44183.0</td>\n",
       "    </tr>\n",
       "    <tr>\n",
       "      <th>Postsecondary</th>\n",
       "      <td>493654.5</td>\n",
       "    </tr>\n",
       "    <tr>\n",
       "      <th>Public Hospital</th>\n",
       "      <td>1995542.0</td>\n",
       "    </tr>\n",
       "    <tr>\n",
       "      <th>School Boards</th>\n",
       "      <td>268895.5</td>\n",
       "    </tr>\n",
       "  </tbody>\n",
       "</table>\n",
       "</div>"
      ],
      "text/plain": [
       "                 Electricity Use - Grid Purchase (kWh)\n",
       "Sector                                                \n",
       "Municipal                                      44183.0\n",
       "Postsecondary                                 493654.5\n",
       "Public Hospital                              1995542.0\n",
       "School Boards                                 268895.5"
      ]
     },
     "execution_count": 19,
     "metadata": {},
     "output_type": "execute_result"
    }
   ],
   "source": [
    "ndf.groupby('Sector').agg({'Electricity Use - Grid Purchase (kWh)': 'median'})"
   ]
  },
  {
   "cell_type": "code",
   "execution_count": 29,
   "id": "f2cb44c4-2698-4df5-b1a3-db2d22133429",
   "metadata": {},
   "outputs": [],
   "source": [
    "# filling the null values in 'Electricity Use - Grid Purchase (kWh)' column with median values of their resp sectors\n",
    "def electric_fillna(row):\n",
    "    if pd.isnull(row['Electricity Use - Grid Purchase (kWh)']):\n",
    "        if row['Sector']=='Municipal':\n",
    "            row['Electricity Use - Grid Purchase (kWh)'] = 44183.0\n",
    "        elif row['Sector']=='Postsecondary':\n",
    "            row['Electricity Use - Grid Purchase (kWh)']=493654.5\n",
    "        elif row['Sector']=='Public Hospital':\n",
    "            row['Electricity Use - Grid Purchase (kWh)']=1995542\n",
    "        elif row['Sector']=='School Boards':\n",
    "            row['Electricity Use - Grid Purchase (kWh)']=268895.5\n",
    "    return row"
   ]
  },
  {
   "cell_type": "code",
   "execution_count": 32,
   "id": "3ac68f4b-3bf2-48c0-b108-2119afbae25b",
   "metadata": {},
   "outputs": [],
   "source": [
    "ndf1 = ndf.apply(electric_fillna, axis=1)"
   ]
  },
  {
   "cell_type": "code",
   "execution_count": 39,
   "id": "c4ea32ea-a3cd-43fd-8501-830d12f82b33",
   "metadata": {},
   "outputs": [
    {
     "data": {
      "text/html": [
       "<div>\n",
       "<style scoped>\n",
       "    .dataframe tbody tr th:only-of-type {\n",
       "        vertical-align: middle;\n",
       "    }\n",
       "\n",
       "    .dataframe tbody tr th {\n",
       "        vertical-align: top;\n",
       "    }\n",
       "\n",
       "    .dataframe thead th {\n",
       "        text-align: right;\n",
       "    }\n",
       "</style>\n",
       "<table border=\"1\" class=\"dataframe\">\n",
       "  <thead>\n",
       "    <tr style=\"text-align: right;\">\n",
       "      <th></th>\n",
       "      <th>Natural Gas Use (GJ)</th>\n",
       "    </tr>\n",
       "    <tr>\n",
       "      <th>Sector</th>\n",
       "      <th></th>\n",
       "    </tr>\n",
       "  </thead>\n",
       "  <tbody>\n",
       "    <tr>\n",
       "      <th>Municipal</th>\n",
       "      <td>465.55</td>\n",
       "    </tr>\n",
       "    <tr>\n",
       "      <th>Postsecondary</th>\n",
       "      <td>1824.50</td>\n",
       "    </tr>\n",
       "    <tr>\n",
       "      <th>Public Hospital</th>\n",
       "      <td>8654.50</td>\n",
       "    </tr>\n",
       "    <tr>\n",
       "      <th>School Boards</th>\n",
       "      <td>1931.40</td>\n",
       "    </tr>\n",
       "  </tbody>\n",
       "</table>\n",
       "</div>"
      ],
      "text/plain": [
       "                 Natural Gas Use (GJ)\n",
       "Sector                               \n",
       "Municipal                      465.55\n",
       "Postsecondary                 1824.50\n",
       "Public Hospital               8654.50\n",
       "School Boards                 1931.40"
      ]
     },
     "execution_count": 39,
     "metadata": {},
     "output_type": "execute_result"
    }
   ],
   "source": [
    "ndf1.groupby('Sector').agg({'Natural Gas Use (GJ)': 'median'})"
   ]
  },
  {
   "cell_type": "code",
   "execution_count": 40,
   "id": "aeef61d8-fe3d-418c-81cc-7c91c2b70370",
   "metadata": {},
   "outputs": [],
   "source": [
    "# filling the null values in 'Natural Gas Use (GJ)' column with median values of their resp sectors\n",
    "def natgas_fill(row):\n",
    "    if pd.isnull(row['Natural Gas Use (GJ)']):\n",
    "        if row['Sector']=='Municipal':\n",
    "            row['Natural Gas Use (GJ)']=465.55\n",
    "        elif row['Sector']=='Postsecondary':\n",
    "            row['Natural Gas Use (GJ)']=1824.50\n",
    "        elif row['Sector']=='Public Hospital':\n",
    "            row['Natural Gas Use (GJ)']=8654.50\n",
    "        elif row['Sector']=='School Boards':\n",
    "            row['Natural Gas Use (GJ)']=1931.40\n",
    "    return row"
   ]
  },
  {
   "cell_type": "code",
   "execution_count": 41,
   "id": "e937db41-b2ce-4168-a17b-e96fbade934d",
   "metadata": {},
   "outputs": [],
   "source": [
    "ndf2 = ndf1.apply(natgas_fill, axis=1)"
   ]
  },
  {
   "cell_type": "code",
   "execution_count": 43,
   "id": "6f2d7041-e24d-469b-86e0-8c4d1922905a",
   "metadata": {},
   "outputs": [
    {
     "data": {
      "text/html": [
       "<div>\n",
       "<style scoped>\n",
       "    .dataframe tbody tr th:only-of-type {\n",
       "        vertical-align: middle;\n",
       "    }\n",
       "\n",
       "    .dataframe tbody tr th {\n",
       "        vertical-align: top;\n",
       "    }\n",
       "\n",
       "    .dataframe thead th {\n",
       "        text-align: right;\n",
       "    }\n",
       "</style>\n",
       "<table border=\"1\" class=\"dataframe\">\n",
       "  <thead>\n",
       "    <tr style=\"text-align: right;\">\n",
       "      <th></th>\n",
       "      <th>Site Energy Use (GJ)</th>\n",
       "    </tr>\n",
       "    <tr>\n",
       "      <th>Sector</th>\n",
       "      <th></th>\n",
       "    </tr>\n",
       "  </thead>\n",
       "  <tbody>\n",
       "    <tr>\n",
       "      <th>Municipal</th>\n",
       "      <td>340.3</td>\n",
       "    </tr>\n",
       "    <tr>\n",
       "      <th>Postsecondary</th>\n",
       "      <td>3560.2</td>\n",
       "    </tr>\n",
       "    <tr>\n",
       "      <th>Public Hospital</th>\n",
       "      <td>18119.1</td>\n",
       "    </tr>\n",
       "    <tr>\n",
       "      <th>School Boards</th>\n",
       "      <td>2846.1</td>\n",
       "    </tr>\n",
       "  </tbody>\n",
       "</table>\n",
       "</div>"
      ],
      "text/plain": [
       "                 Site Energy Use (GJ)\n",
       "Sector                               \n",
       "Municipal                       340.3\n",
       "Postsecondary                  3560.2\n",
       "Public Hospital               18119.1\n",
       "School Boards                  2846.1"
      ]
     },
     "execution_count": 43,
     "metadata": {},
     "output_type": "execute_result"
    }
   ],
   "source": [
    "ndf2.groupby('Sector').agg({'Site Energy Use (GJ)': 'median'})"
   ]
  },
  {
   "cell_type": "code",
   "execution_count": 44,
   "id": "b4e62929-d38e-42b7-9c78-b7923e35af96",
   "metadata": {},
   "outputs": [],
   "source": [
    "# filling the null values in 'Site Energy Use (GJ)' column with median values of their resp sectors\n",
    "def se_fillna(row):\n",
    "    if pd.isnull(row['Site Energy Use (GJ)']):\n",
    "        if row['Sector']=='Municipal':\n",
    "            row['Site Energy Use (GJ)'] =340.3\n",
    "        elif row['Sector']=='Postsecondary':\n",
    "            row['Site Energy Use (GJ)']=3560.2\n",
    "        elif row['Sector']=='Public Hospital':\n",
    "            row['Site Energy Use (GJ)']=18119.1\n",
    "        elif row['Sector']=='School Boards':\n",
    "            row['Site Energy Use (GJ)']=2846.1\n",
    "    return row"
   ]
  },
  {
   "cell_type": "code",
   "execution_count": 45,
   "id": "92ef53f8-7a5e-4d6c-a06d-25eb34d7d6b6",
   "metadata": {},
   "outputs": [],
   "source": [
    "ndf3 = ndf2.apply(se_fillna, axis=1)"
   ]
  },
  {
   "cell_type": "code",
   "execution_count": 46,
   "id": "51086dfc-cc87-4793-9f17-703d3df092c3",
   "metadata": {},
   "outputs": [
    {
     "data": {
      "text/html": [
       "<div>\n",
       "<style scoped>\n",
       "    .dataframe tbody tr th:only-of-type {\n",
       "        vertical-align: middle;\n",
       "    }\n",
       "\n",
       "    .dataframe tbody tr th {\n",
       "        vertical-align: top;\n",
       "    }\n",
       "\n",
       "    .dataframe thead th {\n",
       "        text-align: right;\n",
       "    }\n",
       "</style>\n",
       "<table border=\"1\" class=\"dataframe\">\n",
       "  <thead>\n",
       "    <tr style=\"text-align: right;\">\n",
       "      <th></th>\n",
       "      <th>Total (Location-Based) GHG Emissions (Metric Tons CO2e)</th>\n",
       "    </tr>\n",
       "    <tr>\n",
       "      <th>Sector</th>\n",
       "      <th></th>\n",
       "    </tr>\n",
       "  </thead>\n",
       "  <tbody>\n",
       "    <tr>\n",
       "      <th>Municipal</th>\n",
       "      <td>9.00</td>\n",
       "    </tr>\n",
       "    <tr>\n",
       "      <th>Postsecondary</th>\n",
       "      <td>100.20</td>\n",
       "    </tr>\n",
       "    <tr>\n",
       "      <th>Public Hospital</th>\n",
       "      <td>567.45</td>\n",
       "    </tr>\n",
       "    <tr>\n",
       "      <th>School Boards</th>\n",
       "      <td>101.90</td>\n",
       "    </tr>\n",
       "  </tbody>\n",
       "</table>\n",
       "</div>"
      ],
      "text/plain": [
       "                 Total (Location-Based) GHG Emissions (Metric Tons CO2e)\n",
       "Sector                                                                  \n",
       "Municipal                                                     9.00      \n",
       "Postsecondary                                               100.20      \n",
       "Public Hospital                                             567.45      \n",
       "School Boards                                               101.90      "
      ]
     },
     "execution_count": 46,
     "metadata": {},
     "output_type": "execute_result"
    }
   ],
   "source": [
    "ndf3.groupby('Sector').agg({'Total (Location-Based) GHG Emissions (Metric Tons CO2e)': 'median'})"
   ]
  },
  {
   "cell_type": "code",
   "execution_count": 48,
   "id": "d19428f7-9380-4702-b382-df9f15b44d50",
   "metadata": {},
   "outputs": [],
   "source": [
    "# filling the null values in 'Total (Location-Based) GHG Emissions (Metric Tons CO2e)' column with median values of their resp sectors\n",
    "def ghg_fillna(row):\n",
    "    if pd.isnull(row['Total (Location-Based) GHG Emissions (Metric Tons CO2e)']):\n",
    "        if row['Sector']=='Municipal':\n",
    "            row['Total (Location-Based) GHG Emissions (Metric Tons CO2e)']=9.00\n",
    "        elif row['Sector']=='Postsecondary':\n",
    "            row['Total (Location-Based) GHG Emissions (Metric Tons CO2e)']=100.20\n",
    "        elif row['Sector']=='Public Hospital':\n",
    "            row['Total (Location-Based) GHG Emissions (Metric Tons CO2e)']=567.45\n",
    "        elif row['Sector']=='School Boards':\n",
    "            row['Total (Location-Based) GHG Emissions (Metric Tons CO2e)']=101.90\n",
    "    return row"
   ]
  },
  {
   "cell_type": "code",
   "execution_count": 49,
   "id": "0ed62ca2-26a2-44ce-8396-f612a063212c",
   "metadata": {},
   "outputs": [],
   "source": [
    "fin = ndf3.apply(ghg_fillna, axis=1)"
   ]
  },
  {
   "cell_type": "code",
   "execution_count": 50,
   "id": "7cc05373-cf09-4e55-a39c-97735a4b9b91",
   "metadata": {},
   "outputs": [
    {
     "data": {
      "text/plain": [
       "Sector                                                     0\n",
       "Subsector                                                  0\n",
       "Organization                                               0\n",
       "Property Name                                              0\n",
       "Primary Property Type - Self Selected                      0\n",
       "Address                                                    2\n",
       "City                                                       0\n",
       "Postal Code                                                5\n",
       "Electricity Use - Grid Purchase (kWh)                      0\n",
       "Natural Gas Use (GJ)                                       0\n",
       "Site Energy Use (GJ)                                       0\n",
       "Total (Location-Based) GHG Emissions (Metric Tons CO2e)    0\n",
       "Report Submission Date                                     0\n",
       "dtype: int64"
      ]
     },
     "execution_count": 50,
     "metadata": {},
     "output_type": "execute_result"
    }
   ],
   "source": [
    "fin.isnull().sum()"
   ]
  },
  {
   "cell_type": "code",
   "execution_count": 51,
   "id": "ec7c89f6-b20b-438a-a06c-fc5a3da9f0b4",
   "metadata": {},
   "outputs": [],
   "source": [
    "final = fin.dropna()"
   ]
  },
  {
   "cell_type": "code",
   "execution_count": null,
   "id": "bc4b9e72-f7a5-40aa-91a5-e1556e1d9fca",
   "metadata": {},
   "outputs": [],
   "source": [
    "final.to_excel('D:/Capstone_Projects/Energy consumption Analysis/2021.xlsx', index_label=False, sheet_name='2021')"
   ]
  }
 ],
 "metadata": {
  "kernelspec": {
   "display_name": "Python 3 (ipykernel)",
   "language": "python",
   "name": "python3"
  },
  "language_info": {
   "codemirror_mode": {
    "name": "ipython",
    "version": 3
   },
   "file_extension": ".py",
   "mimetype": "text/x-python",
   "name": "python",
   "nbconvert_exporter": "python",
   "pygments_lexer": "ipython3",
   "version": "3.11.5"
  }
 },
 "nbformat": 4,
 "nbformat_minor": 5
}
